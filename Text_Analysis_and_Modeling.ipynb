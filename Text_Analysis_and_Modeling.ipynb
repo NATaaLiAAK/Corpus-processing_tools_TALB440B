{
 "cells": [
  {
   "cell_type": "code",
   "execution_count": null,
   "metadata": {},
   "outputs": [],
   "source": [
    "# Import des bibliothèques nécessaires\n",
    "import pandas as pd\n",
    "from sklearn.model_selection import train_test_split\n",
    "from sklearn.feature_extraction.text import CountVectorizer\n",
    "from sklearn.naive_bayes import MultinomialNB\n",
    "from sklearn.metrics import accuracy_score, classification_report\n",
    "\n",
    "# Étape 1 : Charger les données\n",
    "data = pd.read_csv('data/processed/sentiment_data.csv')\n",
    "\n",
    "# Afficher les premières lignes du DataFrame\n",
    "print(\"Aperçu des données :\")\n",
    "print(data.head())\n",
    "\n",
    "# Étape 2 : Diviser les données en ensemble d'entraînement et ensemble de test\n",
    "X = data['cleaned_text']\n",
    "y = data['sentiment']\n",
    "X_train, X_test, y_train, y_test = train_test_split(X, y, test_size=0.2, random_state=42)\n",
    "\n",
    "# Étape 3 : Vectoriser les textes\n",
    "vectorizer = CountVectorizer()\n",
    "X_train_vectorized = vectorizer.fit_transform(X_train)\n",
    "X_test_vectorized = vectorizer.transform(X_test)\n",
    "\n",
    "# Étape 4 : Entraîner un modèle de classification de texte\n",
    "classifier = MultinomialNB()\n",
    "classifier.fit(X_train_vectorized, y_train)\n",
    "\n",
    "# Étape 5 : Évaluer le modèle\n",
    "y_pred = classifier.predict(X_test_vectorized)\n",
    "accuracy = accuracy_score(y_test, y_pred)\n",
    "print(\"\\nPrécision du modèle : {:.2f}%\".format(accuracy * 100))\n",
    "\n",
    "# Afficher le rapport de classification\n",
    "print(\"\\nRapport de classification :\")\n",
    "print(classification_report(y_test, y_pred))\n"
   ]
  }
 ],
 "metadata": {
  "language_info": {
   "name": "python"
  }
 },
 "nbformat": 4,
 "nbformat_minor": 2
}
